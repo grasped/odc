{
 "cells": [
  {
   "cell_type": "code",
   "execution_count": null,
   "id": "7a75cf64",
   "metadata": {},
   "outputs": [],
   "source": [
    "import datacube\n",
    "\n",
    "dc = datacube.Datacube(app=\"benguet_fire_extent\")\n",
    "ds = dc.load(product=\"diwata2_smi_l1c\",\n",
    "             x=lon,\n",
    "             y=lat,\n",
    "             time=(\"2020-02-01\", \"2020-02-29\"),\n",
    "             output_crs='EPSG:32651',\n",
    "             resolution=(-122, 122)\n",
    "            )\n",
    "ds"
   ]
  },
  {
   "cell_type": "code",
   "execution_count": null,
   "id": "f4c5492f",
   "metadata": {},
   "outputs": [],
   "source": [
    "ds1 = ds.sel(time='2020-02-29')\n",
    "ds1 = ds1.where(ds > 0)\n",
    "ds1"
   ]
  },
  {
   "cell_type": "code",
   "execution_count": null,
   "id": "51648eaa",
   "metadata": {},
   "outputs": [],
   "source": [
    "import datacube\n",
    "\n",
    "dc = datacube.Datacube(app=\"benguet_fire_extent\")\n",
    "ds = dc.load(product=\"diwata2_smi_l1c\",\n",
    "             x=(120.40785237848341, 121.1283837861524),\n",
    "             y=(16.230255344702186, 16.869024535032874),\n",
    "             time=(\"2020-02-29\"),\n",
    "             output_crs='EPSG:32651',\n",
    "             resolution=(-122, 122)\n",
    "            )\n",
    "ds"
   ]
  }
 ],
 "metadata": {
  "kernelspec": {
   "display_name": "Python 3 (ipykernel)",
   "language": "python",
   "name": "python3"
  },
  "language_info": {
   "codemirror_mode": {
    "name": "ipython",
    "version": 3
   },
   "file_extension": ".py",
   "mimetype": "text/x-python",
   "name": "python",
   "nbconvert_exporter": "python",
   "pygments_lexer": "ipython3",
   "version": "3.8.12"
  }
 },
 "nbformat": 4,
 "nbformat_minor": 5
}
